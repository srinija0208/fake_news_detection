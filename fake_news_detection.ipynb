{
 "cells": [
  {
   "cell_type": "code",
   "execution_count": 1,
   "id": "f33b0f46",
   "metadata": {},
   "outputs": [],
   "source": [
    "import pandas as pd\n",
    "import numpy as np"
   ]
  },
  {
   "cell_type": "code",
   "execution_count": 2,
   "id": "a3e67487",
   "metadata": {},
   "outputs": [],
   "source": [
    "fake = pd.read_csv(r\"Fake.csv\")\n",
    "true = pd.read_csv(r\"True.csv\")"
   ]
  },
  {
   "cell_type": "code",
   "execution_count": 3,
   "id": "b4d529e7",
   "metadata": {},
   "outputs": [],
   "source": [
    "fake['label'] = 0\n",
    "true['label'] = 1"
   ]
  },
  {
   "cell_type": "code",
   "execution_count": 4,
   "id": "f31a1526",
   "metadata": {},
   "outputs": [],
   "source": [
    "data = pd.concat([true,fake],ignore_index=True)"
   ]
  },
  {
   "cell_type": "code",
   "execution_count": 5,
   "id": "bb35d75d",
   "metadata": {},
   "outputs": [
    {
     "data": {
      "text/html": [
       "<div>\n",
       "<style scoped>\n",
       "    .dataframe tbody tr th:only-of-type {\n",
       "        vertical-align: middle;\n",
       "    }\n",
       "\n",
       "    .dataframe tbody tr th {\n",
       "        vertical-align: top;\n",
       "    }\n",
       "\n",
       "    .dataframe thead th {\n",
       "        text-align: right;\n",
       "    }\n",
       "</style>\n",
       "<table border=\"1\" class=\"dataframe\">\n",
       "  <thead>\n",
       "    <tr style=\"text-align: right;\">\n",
       "      <th></th>\n",
       "      <th>title</th>\n",
       "      <th>text</th>\n",
       "      <th>subject</th>\n",
       "      <th>date</th>\n",
       "      <th>label</th>\n",
       "    </tr>\n",
       "  </thead>\n",
       "  <tbody>\n",
       "    <tr>\n",
       "      <th>25862</th>\n",
       "      <td>S.C. Sheriff’s Dept. Just Said Townville Shoo...</td>\n",
       "      <td>A teen opened fire at an elementary school in ...</td>\n",
       "      <td>News</td>\n",
       "      <td>September 28, 2016</td>\n",
       "      <td>0</td>\n",
       "    </tr>\n",
       "    <tr>\n",
       "      <th>35984</th>\n",
       "      <td>OBAMA THROWS HILLARY UNDER THE BUS: E-mail Sca...</td>\n",
       "      <td>Obama decides to throw Hillary under the bus I...</td>\n",
       "      <td>politics</td>\n",
       "      <td>Jan 30, 2016</td>\n",
       "      <td>0</td>\n",
       "    </tr>\n",
       "    <tr>\n",
       "      <th>44279</th>\n",
       "      <td>BRONX HOSPITAL SHOOTING: Multiple People Shot,...</td>\n",
       "      <td>21st Century Wire says Several people have bee...</td>\n",
       "      <td>Middle-east</td>\n",
       "      <td>June 30, 2017</td>\n",
       "      <td>0</td>\n",
       "    </tr>\n",
       "    <tr>\n",
       "      <th>8292</th>\n",
       "      <td>Obama visits Midway Atoll, a symbol of his cli...</td>\n",
       "      <td>MIDWAY ATOLL (Reuters) - President Barack Obam...</td>\n",
       "      <td>politicsNews</td>\n",
       "      <td>September 1, 2016</td>\n",
       "      <td>1</td>\n",
       "    </tr>\n",
       "    <tr>\n",
       "      <th>34559</th>\n",
       "      <td>LIBERAL HUMOR? FLORIDA BAR POSTS SIGN Suggesti...</td>\n",
       "      <td>It s a federal offense to threaten a president...</td>\n",
       "      <td>politics</td>\n",
       "      <td>Aug 28, 2016</td>\n",
       "      <td>0</td>\n",
       "    </tr>\n",
       "  </tbody>\n",
       "</table>\n",
       "</div>"
      ],
      "text/plain": [
       "                                                   title  \\\n",
       "25862   S.C. Sheriff’s Dept. Just Said Townville Shoo...   \n",
       "35984  OBAMA THROWS HILLARY UNDER THE BUS: E-mail Sca...   \n",
       "44279  BRONX HOSPITAL SHOOTING: Multiple People Shot,...   \n",
       "8292   Obama visits Midway Atoll, a symbol of his cli...   \n",
       "34559  LIBERAL HUMOR? FLORIDA BAR POSTS SIGN Suggesti...   \n",
       "\n",
       "                                                    text       subject  \\\n",
       "25862  A teen opened fire at an elementary school in ...          News   \n",
       "35984  Obama decides to throw Hillary under the bus I...      politics   \n",
       "44279  21st Century Wire says Several people have bee...   Middle-east   \n",
       "8292   MIDWAY ATOLL (Reuters) - President Barack Obam...  politicsNews   \n",
       "34559  It s a federal offense to threaten a president...      politics   \n",
       "\n",
       "                     date  label  \n",
       "25862  September 28, 2016      0  \n",
       "35984        Jan 30, 2016      0  \n",
       "44279       June 30, 2017      0  \n",
       "8292   September 1, 2016       1  \n",
       "34559        Aug 28, 2016      0  "
      ]
     },
     "execution_count": 5,
     "metadata": {},
     "output_type": "execute_result"
    }
   ],
   "source": [
    "data.sample(5)"
   ]
  },
  {
   "cell_type": "code",
   "execution_count": 6,
   "id": "382e5976",
   "metadata": {},
   "outputs": [
    {
     "data": {
      "text/plain": [
       "(44898, 5)"
      ]
     },
     "execution_count": 6,
     "metadata": {},
     "output_type": "execute_result"
    }
   ],
   "source": [
    "data.shape"
   ]
  },
  {
   "cell_type": "code",
   "execution_count": 7,
   "id": "89228a92",
   "metadata": {},
   "outputs": [
    {
     "name": "stdout",
     "output_type": "stream",
     "text": [
      "<class 'pandas.core.frame.DataFrame'>\n",
      "RangeIndex: 44898 entries, 0 to 44897\n",
      "Data columns (total 5 columns):\n",
      " #   Column   Non-Null Count  Dtype \n",
      "---  ------   --------------  ----- \n",
      " 0   title    44898 non-null  object\n",
      " 1   text     44898 non-null  object\n",
      " 2   subject  44898 non-null  object\n",
      " 3   date     44898 non-null  object\n",
      " 4   label    44898 non-null  int64 \n",
      "dtypes: int64(1), object(4)\n",
      "memory usage: 1.7+ MB\n"
     ]
    }
   ],
   "source": [
    "data.info()"
   ]
  },
  {
   "cell_type": "code",
   "execution_count": 8,
   "id": "c1c6e76c",
   "metadata": {},
   "outputs": [
    {
     "data": {
      "text/plain": [
       "209"
      ]
     },
     "execution_count": 8,
     "metadata": {},
     "output_type": "execute_result"
    }
   ],
   "source": [
    "data.duplicated().sum()"
   ]
  },
  {
   "cell_type": "code",
   "execution_count": 9,
   "id": "39bcbf74",
   "metadata": {},
   "outputs": [],
   "source": [
    "data=data.drop_duplicates()"
   ]
  },
  {
   "cell_type": "code",
   "execution_count": 10,
   "id": "e8cfb206",
   "metadata": {},
   "outputs": [
    {
     "data": {
      "text/plain": [
       "0"
      ]
     },
     "execution_count": 10,
     "metadata": {},
     "output_type": "execute_result"
    }
   ],
   "source": [
    "data.duplicated().sum()"
   ]
  },
  {
   "cell_type": "code",
   "execution_count": 11,
   "id": "0210f2e4",
   "metadata": {},
   "outputs": [
    {
     "data": {
      "text/plain": [
       "title      0\n",
       "text       0\n",
       "subject    0\n",
       "date       0\n",
       "label      0\n",
       "dtype: int64"
      ]
     },
     "execution_count": 11,
     "metadata": {},
     "output_type": "execute_result"
    }
   ],
   "source": [
    "data.isna().sum()"
   ]
  },
  {
   "cell_type": "markdown",
   "id": "938143ab",
   "metadata": {},
   "source": [
    "## Note:\n",
    "* since our goal is to detect fake news, the most imp columns are: title,text and label\n",
    "* so we can drop date and subject columns\n",
    "* alse we merge title and text columns as one column say 'content'"
   ]
  },
  {
   "cell_type": "code",
   "execution_count": 12,
   "id": "7bf9705a",
   "metadata": {},
   "outputs": [],
   "source": [
    "data['content'] = data['title'] + \" \" + data['text']"
   ]
  },
  {
   "cell_type": "code",
   "execution_count": 13,
   "id": "2abe0e1c",
   "metadata": {},
   "outputs": [],
   "source": [
    "data.drop(['title','subject','text','date'],axis=1,inplace=True)"
   ]
  },
  {
   "cell_type": "code",
   "execution_count": 14,
   "id": "e0c37430",
   "metadata": {},
   "outputs": [
    {
     "data": {
      "text/html": [
       "<div>\n",
       "<style scoped>\n",
       "    .dataframe tbody tr th:only-of-type {\n",
       "        vertical-align: middle;\n",
       "    }\n",
       "\n",
       "    .dataframe tbody tr th {\n",
       "        vertical-align: top;\n",
       "    }\n",
       "\n",
       "    .dataframe thead th {\n",
       "        text-align: right;\n",
       "    }\n",
       "</style>\n",
       "<table border=\"1\" class=\"dataframe\">\n",
       "  <thead>\n",
       "    <tr style=\"text-align: right;\">\n",
       "      <th></th>\n",
       "      <th>label</th>\n",
       "      <th>content</th>\n",
       "    </tr>\n",
       "  </thead>\n",
       "  <tbody>\n",
       "    <tr>\n",
       "      <th>0</th>\n",
       "      <td>1</td>\n",
       "      <td>As U.S. budget fight looms, Republicans flip t...</td>\n",
       "    </tr>\n",
       "    <tr>\n",
       "      <th>1</th>\n",
       "      <td>1</td>\n",
       "      <td>U.S. military to accept transgender recruits o...</td>\n",
       "    </tr>\n",
       "    <tr>\n",
       "      <th>2</th>\n",
       "      <td>1</td>\n",
       "      <td>Senior U.S. Republican senator: 'Let Mr. Muell...</td>\n",
       "    </tr>\n",
       "    <tr>\n",
       "      <th>3</th>\n",
       "      <td>1</td>\n",
       "      <td>FBI Russia probe helped by Australian diplomat...</td>\n",
       "    </tr>\n",
       "    <tr>\n",
       "      <th>4</th>\n",
       "      <td>1</td>\n",
       "      <td>Trump wants Postal Service to charge 'much mor...</td>\n",
       "    </tr>\n",
       "  </tbody>\n",
       "</table>\n",
       "</div>"
      ],
      "text/plain": [
       "   label                                            content\n",
       "0      1  As U.S. budget fight looms, Republicans flip t...\n",
       "1      1  U.S. military to accept transgender recruits o...\n",
       "2      1  Senior U.S. Republican senator: 'Let Mr. Muell...\n",
       "3      1  FBI Russia probe helped by Australian diplomat...\n",
       "4      1  Trump wants Postal Service to charge 'much mor..."
      ]
     },
     "execution_count": 14,
     "metadata": {},
     "output_type": "execute_result"
    }
   ],
   "source": [
    "data.head()"
   ]
  },
  {
   "cell_type": "code",
   "execution_count": 15,
   "id": "8f6a7fad",
   "metadata": {},
   "outputs": [
    {
     "name": "stdout",
     "output_type": "stream",
     "text": [
      "<class 'pandas.core.frame.DataFrame'>\n",
      "Index: 44689 entries, 0 to 44897\n",
      "Data columns (total 2 columns):\n",
      " #   Column   Non-Null Count  Dtype \n",
      "---  ------   --------------  ----- \n",
      " 0   label    44689 non-null  int64 \n",
      " 1   content  44689 non-null  object\n",
      "dtypes: int64(1), object(1)\n",
      "memory usage: 1.0+ MB\n"
     ]
    }
   ],
   "source": [
    "data.info()"
   ]
  },
  {
   "cell_type": "code",
   "execution_count": 16,
   "id": "60c15ec6",
   "metadata": {},
   "outputs": [
    {
     "data": {
      "text/plain": [
       "label\n",
       "0    23478\n",
       "1    21211\n",
       "Name: count, dtype: int64"
      ]
     },
     "execution_count": 16,
     "metadata": {},
     "output_type": "execute_result"
    }
   ],
   "source": [
    "data['label'].value_counts()"
   ]
  },
  {
   "cell_type": "code",
   "execution_count": 17,
   "id": "6aed4387",
   "metadata": {},
   "outputs": [
    {
     "data": {
      "image/png": "[encoded data removed]",
      "text/plain": [
       "<Figure size 640x480 with 1 Axes>"
      ]
     },
     "metadata": {},
     "output_type": "display_data"
    }
   ],
   "source": [
    "import matplotlib.pyplot as plt\n",
    "\n",
    "plt.pie(data['label'].value_counts(),labels=['Fake','True'],autopct='%0.2f')\n",
    "plt.show()"
   ]
  },
  {
   "cell_type": "markdown",
   "id": "851d3b47",
   "metadata": {},
   "source": [
    "### insights:\n",
    "* we can that fake news are more in number than the True news"
   ]
  },
  {
   "cell_type": "code",
   "execution_count": 18,
   "id": "2994818d",
   "metadata": {},
   "outputs": [],
   "source": [
    "import nltk\n",
    "\n",
    "## number of characters in each content\n",
    "data['num_characters'] = data['content'].apply(len)\n",
    "\n",
    "\n",
    "## number of words in each content\n",
    "data['num_words'] = data['content'].apply(lambda x:len(nltk.word_tokenize(x)))\n",
    "\n",
    "\n",
    "## number of sentences in each content\n",
    "data['num_sentences'] = data['content'].apply(lambda x: len(nltk.sent_tokenize(x)))"
   ]
  },
  {
   "cell_type": "code",
   "execution_count": 19,
   "id": "f3970b11",
   "metadata": {},
   "outputs": [
    {
     "data": {
      "text/html": [
       "<div>\n",
       "<style scoped>\n",
       "    .dataframe tbody tr th:only-of-type {\n",
       "        vertical-align: middle;\n",
       "    }\n",
       "\n",
       "    .dataframe tbody tr th {\n",
       "        vertical-align: top;\n",
       "    }\n",
       "\n",
       "    .dataframe thead th {\n",
       "        text-align: right;\n",
       "    }\n",
       "</style>\n",
       "<table border=\"1\" class=\"dataframe\">\n",
       "  <thead>\n",
       "    <tr style=\"text-align: right;\">\n",
       "      <th></th>\n",
       "      <th>label</th>\n",
       "      <th>content</th>\n",
       "      <th>num_characters</th>\n",
       "      <th>num_words</th>\n",
       "      <th>num_sentences</th>\n",
       "    </tr>\n",
       "  </thead>\n",
       "  <tbody>\n",
       "    <tr>\n",
       "      <th>0</th>\n",
       "      <td>1</td>\n",
       "      <td>As U.S. budget fight looms, Republicans flip t...</td>\n",
       "      <td>4724</td>\n",
       "      <td>896</td>\n",
       "      <td>30</td>\n",
       "    </tr>\n",
       "    <tr>\n",
       "      <th>1</th>\n",
       "      <td>1</td>\n",
       "      <td>U.S. military to accept transgender recruits o...</td>\n",
       "      <td>4142</td>\n",
       "      <td>723</td>\n",
       "      <td>21</td>\n",
       "    </tr>\n",
       "    <tr>\n",
       "      <th>2</th>\n",
       "      <td>1</td>\n",
       "      <td>Senior U.S. Republican senator: 'Let Mr. Muell...</td>\n",
       "      <td>2850</td>\n",
       "      <td>535</td>\n",
       "      <td>17</td>\n",
       "    </tr>\n",
       "    <tr>\n",
       "      <th>3</th>\n",
       "      <td>1</td>\n",
       "      <td>FBI Russia probe helped by Australian diplomat...</td>\n",
       "      <td>2521</td>\n",
       "      <td>447</td>\n",
       "      <td>16</td>\n",
       "    </tr>\n",
       "    <tr>\n",
       "      <th>4</th>\n",
       "      <td>1</td>\n",
       "      <td>Trump wants Postal Service to charge 'much mor...</td>\n",
       "      <td>5274</td>\n",
       "      <td>999</td>\n",
       "      <td>40</td>\n",
       "    </tr>\n",
       "  </tbody>\n",
       "</table>\n",
       "</div>"
      ],
      "text/plain": [
       "   label                                            content  num_characters  \\\n",
       "0      1  As U.S. budget fight looms, Republicans flip t...            4724   \n",
       "1      1  U.S. military to accept transgender recruits o...            4142   \n",
       "2      1  Senior U.S. Republican senator: 'Let Mr. Muell...            2850   \n",
       "3      1  FBI Russia probe helped by Australian diplomat...            2521   \n",
       "4      1  Trump wants Postal Service to charge 'much mor...            5274   \n",
       "\n",
       "   num_words  num_sentences  \n",
       "0        896             30  \n",
       "1        723             21  \n",
       "2        535             17  \n",
       "3        447             16  \n",
       "4        999             40  "
      ]
     },
     "execution_count": 19,
     "metadata": {},
     "output_type": "execute_result"
    }
   ],
   "source": [
    "data.head()"
   ]
  },
  {
   "cell_type": "code",
   "execution_count": 20,
   "id": "efc504a5",
   "metadata": {},
   "outputs": [
    {
     "data": {
      "text/html": [
       "<div>\n",
       "<style scoped>\n",
       "    .dataframe tbody tr th:only-of-type {\n",
       "        vertical-align: middle;\n",
       "    }\n",
       "\n",
       "    .dataframe tbody tr th {\n",
       "        vertical-align: top;\n",
       "    }\n",
       "\n",
       "    .dataframe thead th {\n",
       "        text-align: right;\n",
       "    }\n",
       "</style>\n",
       "<table border=\"1\" class=\"dataframe\">\n",
       "  <thead>\n",
       "    <tr style=\"text-align: right;\">\n",
       "      <th></th>\n",
       "      <th>label</th>\n",
       "      <th>num_characters</th>\n",
       "      <th>num_words</th>\n",
       "      <th>num_sentences</th>\n",
       "    </tr>\n",
       "  </thead>\n",
       "  <tbody>\n",
       "    <tr>\n",
       "      <th>count</th>\n",
       "      <td>44689.000000</td>\n",
       "      <td>44689.000000</td>\n",
       "      <td>44689.000000</td>\n",
       "      <td>44689.000000</td>\n",
       "    </tr>\n",
       "    <tr>\n",
       "      <th>mean</th>\n",
       "      <td>0.474636</td>\n",
       "      <td>2548.274005</td>\n",
       "      <td>467.756786</td>\n",
       "      <td>14.988006</td>\n",
       "    </tr>\n",
       "    <tr>\n",
       "      <th>std</th>\n",
       "      <td>0.499362</td>\n",
       "      <td>2174.594406</td>\n",
       "      <td>395.267696</td>\n",
       "      <td>12.676240</td>\n",
       "    </tr>\n",
       "    <tr>\n",
       "      <th>min</th>\n",
       "      <td>0.000000</td>\n",
       "      <td>31.000000</td>\n",
       "      <td>5.000000</td>\n",
       "      <td>1.000000</td>\n",
       "    </tr>\n",
       "    <tr>\n",
       "      <th>25%</th>\n",
       "      <td>0.000000</td>\n",
       "      <td>1314.000000</td>\n",
       "      <td>240.000000</td>\n",
       "      <td>7.000000</td>\n",
       "    </tr>\n",
       "    <tr>\n",
       "      <th>50%</th>\n",
       "      <td>0.000000</td>\n",
       "      <td>2268.000000</td>\n",
       "      <td>417.000000</td>\n",
       "      <td>13.000000</td>\n",
       "    </tr>\n",
       "    <tr>\n",
       "      <th>75%</th>\n",
       "      <td>1.000000</td>\n",
       "      <td>3186.000000</td>\n",
       "      <td>587.000000</td>\n",
       "      <td>19.000000</td>\n",
       "    </tr>\n",
       "    <tr>\n",
       "      <th>max</th>\n",
       "      <td>1.000000</td>\n",
       "      <td>51893.000000</td>\n",
       "      <td>9970.000000</td>\n",
       "      <td>321.000000</td>\n",
       "    </tr>\n",
       "  </tbody>\n",
       "</table>\n",
       "</div>"
      ],
      "text/plain": [
       "              label  num_characters     num_words  num_sentences\n",
       "count  44689.000000    44689.000000  44689.000000   44689.000000\n",
       "mean       0.474636     2548.274005    467.756786      14.988006\n",
       "std        0.499362     2174.594406    395.267696      12.676240\n",
       "min        0.000000       31.000000      5.000000       1.000000\n",
       "25%        0.000000     1314.000000    240.000000       7.000000\n",
       "50%        0.000000     2268.000000    417.000000      13.000000\n",
       "75%        1.000000     3186.000000    587.000000      19.000000\n",
       "max        1.000000    51893.000000   9970.000000     321.000000"
      ]
     },
     "execution_count": 20,
     "metadata": {},
     "output_type": "execute_result"
    }
   ],
   "source": [
    "data.describe()"
   ]
  },
  {
   "cell_type": "code",
   "execution_count": 21,
   "id": "e6361474",
   "metadata": {},
   "outputs": [
    {
     "data": {
      "text/html": [
       "<div>\n",
       "<style scoped>\n",
       "    .dataframe tbody tr th:only-of-type {\n",
       "        vertical-align: middle;\n",
       "    }\n",
       "\n",
       "    .dataframe tbody tr th {\n",
       "        vertical-align: top;\n",
       "    }\n",
       "\n",
       "    .dataframe thead th {\n",
       "        text-align: right;\n",
       "    }\n",
       "</style>\n",
       "<table border=\"1\" class=\"dataframe\">\n",
       "  <thead>\n",
       "    <tr style=\"text-align: right;\">\n",
       "      <th></th>\n",
       "      <th>num_characters</th>\n",
       "      <th>num_words</th>\n",
       "      <th>num_sentences</th>\n",
       "    </tr>\n",
       "  </thead>\n",
       "  <tbody>\n",
       "    <tr>\n",
       "      <th>count</th>\n",
       "      <td>23478.000000</td>\n",
       "      <td>23478.000000</td>\n",
       "      <td>23478.000000</td>\n",
       "    </tr>\n",
       "    <tr>\n",
       "      <th>mean</th>\n",
       "      <td>2642.749936</td>\n",
       "      <td>488.163387</td>\n",
       "      <td>15.161428</td>\n",
       "    </tr>\n",
       "    <tr>\n",
       "      <th>std</th>\n",
       "      <td>2533.838628</td>\n",
       "      <td>457.132559</td>\n",
       "      <td>13.745278</td>\n",
       "    </tr>\n",
       "    <tr>\n",
       "      <th>min</th>\n",
       "      <td>31.000000</td>\n",
       "      <td>6.000000</td>\n",
       "      <td>1.000000</td>\n",
       "    </tr>\n",
       "    <tr>\n",
       "      <th>25%</th>\n",
       "      <td>1530.250000</td>\n",
       "      <td>284.000000</td>\n",
       "      <td>7.000000</td>\n",
       "    </tr>\n",
       "    <tr>\n",
       "      <th>50%</th>\n",
       "      <td>2259.000000</td>\n",
       "      <td>420.000000</td>\n",
       "      <td>13.000000</td>\n",
       "    </tr>\n",
       "    <tr>\n",
       "      <th>75%</th>\n",
       "      <td>3126.000000</td>\n",
       "      <td>581.000000</td>\n",
       "      <td>19.000000</td>\n",
       "    </tr>\n",
       "    <tr>\n",
       "      <th>max</th>\n",
       "      <td>51893.000000</td>\n",
       "      <td>9970.000000</td>\n",
       "      <td>288.000000</td>\n",
       "    </tr>\n",
       "  </tbody>\n",
       "</table>\n",
       "</div>"
      ],
      "text/plain": [
       "       num_characters     num_words  num_sentences\n",
       "count    23478.000000  23478.000000   23478.000000\n",
       "mean      2642.749936    488.163387      15.161428\n",
       "std       2533.838628    457.132559      13.745278\n",
       "min         31.000000      6.000000       1.000000\n",
       "25%       1530.250000    284.000000       7.000000\n",
       "50%       2259.000000    420.000000      13.000000\n",
       "75%       3126.000000    581.000000      19.000000\n",
       "max      51893.000000   9970.000000     288.000000"
      ]
     },
     "execution_count": 21,
     "metadata": {},
     "output_type": "execute_result"
    }
   ],
   "source": [
    "## describe of only fake news\n",
    "\n",
    "data[data['label']==0][['num_characters','num_words','num_sentences']].describe()"
   ]
  },
  {
   "cell_type": "code",
   "execution_count": 22,
   "id": "c88c9a5b",
   "metadata": {},
   "outputs": [
    {
     "data": {
      "text/html": [
       "<div>\n",
       "<style scoped>\n",
       "    .dataframe tbody tr th:only-of-type {\n",
       "        vertical-align: middle;\n",
       "    }\n",
       "\n",
       "    .dataframe tbody tr th {\n",
       "        vertical-align: top;\n",
       "    }\n",
       "\n",
       "    .dataframe thead th {\n",
       "        text-align: right;\n",
       "    }\n",
       "</style>\n",
       "<table border=\"1\" class=\"dataframe\">\n",
       "  <thead>\n",
       "    <tr style=\"text-align: right;\">\n",
       "      <th></th>\n",
       "      <th>num_characters</th>\n",
       "      <th>num_words</th>\n",
       "      <th>num_sentences</th>\n",
       "    </tr>\n",
       "  </thead>\n",
       "  <tbody>\n",
       "    <tr>\n",
       "      <th>count</th>\n",
       "      <td>21211.000000</td>\n",
       "      <td>21211.000000</td>\n",
       "      <td>21211.000000</td>\n",
       "    </tr>\n",
       "    <tr>\n",
       "      <th>mean</th>\n",
       "      <td>2443.700627</td>\n",
       "      <td>445.169158</td>\n",
       "      <td>14.796049</td>\n",
       "    </tr>\n",
       "    <tr>\n",
       "      <th>std</th>\n",
       "      <td>1684.042483</td>\n",
       "      <td>311.292069</td>\n",
       "      <td>11.373650</td>\n",
       "    </tr>\n",
       "    <tr>\n",
       "      <th>min</th>\n",
       "      <td>32.000000</td>\n",
       "      <td>5.000000</td>\n",
       "      <td>1.000000</td>\n",
       "    </tr>\n",
       "    <tr>\n",
       "      <th>25%</th>\n",
       "      <td>971.500000</td>\n",
       "      <td>177.000000</td>\n",
       "      <td>6.000000</td>\n",
       "    </tr>\n",
       "    <tr>\n",
       "      <th>50%</th>\n",
       "      <td>2282.000000</td>\n",
       "      <td>413.000000</td>\n",
       "      <td>13.000000</td>\n",
       "    </tr>\n",
       "    <tr>\n",
       "      <th>75%</th>\n",
       "      <td>3291.500000</td>\n",
       "      <td>598.000000</td>\n",
       "      <td>20.000000</td>\n",
       "    </tr>\n",
       "    <tr>\n",
       "      <th>max</th>\n",
       "      <td>29849.000000</td>\n",
       "      <td>5988.000000</td>\n",
       "      <td>321.000000</td>\n",
       "    </tr>\n",
       "  </tbody>\n",
       "</table>\n",
       "</div>"
      ],
      "text/plain": [
       "       num_characters     num_words  num_sentences\n",
       "count    21211.000000  21211.000000   21211.000000\n",
       "mean      2443.700627    445.169158      14.796049\n",
       "std       1684.042483    311.292069      11.373650\n",
       "min         32.000000      5.000000       1.000000\n",
       "25%        971.500000    177.000000       6.000000\n",
       "50%       2282.000000    413.000000      13.000000\n",
       "75%       3291.500000    598.000000      20.000000\n",
       "max      29849.000000   5988.000000     321.000000"
      ]
     },
     "execution_count": 22,
     "metadata": {},
     "output_type": "execute_result"
    }
   ],
   "source": [
    "## describe of only True news\n",
    "\n",
    "data[data['label']==1][['num_characters','num_words','num_sentences']].describe()"
   ]
  },
  {
   "cell_type": "markdown",
   "id": "6cbd85a9",
   "metadata": {},
   "source": [
    "### insights:\n",
    "\n",
    "* we can the count of num_characters,num_words and num_sentences of fake news are more than the True news"
   ]
  },
  {
   "cell_type": "code",
   "execution_count": 23,
   "id": "c75a5cd2",
   "metadata": {},
   "outputs": [
    {
     "data": {
      "text/plain": [
       "<Axes: >"
      ]
     },
     "execution_count": 23,
     "metadata": {},
     "output_type": "execute_result"
    },
    {
     "data": {
      "image/png": "[encoded data removed]",
      "text/plain": [
       "<Figure size 640x480 with 2 Axes>"
      ]
     },
     "metadata": {},
     "output_type": "display_data"
    }
   ],
   "source": [
    "import seaborn as sns\n",
    "sns.heatmap(data[['num_characters','num_words','num_sentences','label']].corr(),annot=True)"
   ]
  },
  {
   "cell_type": "markdown",
   "id": "e6b237ac",
   "metadata": {},
   "source": [
    "## Data Preprocessing\n",
    "\n",
    "1. Lower case\n",
    "2. Remove puntucations\n",
    "3. Remove stopwords\n",
    "4. Tokenization\n",
    "5. Stemming "
   ]
  },
  {
   "cell_type": "code",
   "execution_count": 24,
   "id": "094c278b",
   "metadata": {},
   "outputs": [
    {
     "name": "stderr",
     "output_type": "stream",
     "text": [
      "[nltk_data] Downloading package stopwords to\n",
      "[nltk_data]     C:\\Users\\SRINIJA\\AppData\\Roaming\\nltk_data...\n",
      "[nltk_data]   Package stopwords is already up-to-date!\n"
     ]
    },
    {
     "data": {
      "text/plain": [
       "['a',\n",
       " 'about',\n",
       " 'above',\n",
       " 'after',\n",
       " 'again',\n",
       " 'against',\n",
       " 'ain',\n",
       " 'all',\n",
       " 'am',\n",
       " 'an',\n",
       " 'and',\n",
       " 'any',\n",
       " 'are',\n",
       " 'aren',\n",
       " \"aren't\",\n",
       " 'as',\n",
       " 'at',\n",
       " 'be',\n",
       " 'because',\n",
       " 'been',\n",
       " 'before',\n",
       " 'being',\n",
       " 'below',\n",
       " 'between',\n",
       " 'both',\n",
       " 'but',\n",
       " 'by',\n",
       " 'can',\n",
       " 'couldn',\n",
       " \"couldn't\",\n",
       " 'd',\n",
       " 'did',\n",
       " 'didn',\n",
       " \"didn't\",\n",
       " 'do',\n",
       " 'does',\n",
       " 'doesn',\n",
       " \"doesn't\",\n",
       " 'doing',\n",
       " 'don',\n",
       " \"don't\",\n",
       " 'down',\n",
       " 'during',\n",
       " 'each',\n",
       " 'few',\n",
       " 'for',\n",
       " 'from',\n",
       " 'further',\n",
       " 'had',\n",
       " 'hadn',\n",
       " \"hadn't\",\n",
       " 'has',\n",
       " 'hasn',\n",
       " \"hasn't\",\n",
       " 'have',\n",
       " 'haven',\n",
       " \"haven't\",\n",
       " 'having',\n",
       " 'he',\n",
       " \"he'd\",\n",
       " \"he'll\",\n",
       " 'her',\n",
       " 'here',\n",
       " 'hers',\n",
       " 'herself',\n",
       " \"he's\",\n",
       " 'him',\n",
       " 'himself',\n",
       " 'his',\n",
       " 'how',\n",
       " 'i',\n",
       " \"i'd\",\n",
       " 'if',\n",
       " \"i'll\",\n",
       " \"i'm\",\n",
       " 'in',\n",
       " 'into',\n",
       " 'is',\n",
       " 'isn',\n",
       " \"isn't\",\n",
       " 'it',\n",
       " \"it'd\",\n",
       " \"it'll\",\n",
       " \"it's\",\n",
       " 'its',\n",
       " 'itself',\n",
       " \"i've\",\n",
       " 'just',\n",
       " 'll',\n",
       " 'm',\n",
       " 'ma',\n",
       " 'me',\n",
       " 'mightn',\n",
       " \"mightn't\",\n",
       " 'more',\n",
       " 'most',\n",
       " 'mustn',\n",
       " \"mustn't\",\n",
       " 'my',\n",
       " 'myself',\n",
       " 'needn',\n",
       " \"needn't\",\n",
       " 'no',\n",
       " 'nor',\n",
       " 'not',\n",
       " 'now',\n",
       " 'o',\n",
       " 'of',\n",
       " 'off',\n",
       " 'on',\n",
       " 'once',\n",
       " 'only',\n",
       " 'or',\n",
       " 'other',\n",
       " 'our',\n",
       " 'ours',\n",
       " 'ourselves',\n",
       " 'out',\n",
       " 'over',\n",
       " 'own',\n",
       " 're',\n",
       " 's',\n",
       " 'same',\n",
       " 'shan',\n",
       " \"shan't\",\n",
       " 'she',\n",
       " \"she'd\",\n",
       " \"she'll\",\n",
       " \"she's\",\n",
       " 'should',\n",
       " 'shouldn',\n",
       " \"shouldn't\",\n",
       " \"should've\",\n",
       " 'so',\n",
       " 'some',\n",
       " 'such',\n",
       " 't',\n",
       " 'than',\n",
       " 'that',\n",
       " \"that'll\",\n",
       " 'the',\n",
       " 'their',\n",
       " 'theirs',\n",
       " 'them',\n",
       " 'themselves',\n",
       " 'then',\n",
       " 'there',\n",
       " 'these',\n",
       " 'they',\n",
       " \"they'd\",\n",
       " \"they'll\",\n",
       " \"they're\",\n",
       " \"they've\",\n",
       " 'this',\n",
       " 'those',\n",
       " 'through',\n",
       " 'to',\n",
       " 'too',\n",
       " 'under',\n",
       " 'until',\n",
       " 'up',\n",
       " 've',\n",
       " 'very',\n",
       " 'was',\n",
       " 'wasn',\n",
       " \"wasn't\",\n",
       " 'we',\n",
       " \"we'd\",\n",
       " \"we'll\",\n",
       " \"we're\",\n",
       " 'were',\n",
       " 'weren',\n",
       " \"weren't\",\n",
       " \"we've\",\n",
       " 'what',\n",
       " 'when',\n",
       " 'where',\n",
       " 'which',\n",
       " 'while',\n",
       " 'who',\n",
       " 'whom',\n",
       " 'why',\n",
       " 'will',\n",
       " 'with',\n",
       " 'won',\n",
       " \"won't\",\n",
       " 'wouldn',\n",
       " \"wouldn't\",\n",
       " 'y',\n",
       " 'you',\n",
       " \"you'd\",\n",
       " \"you'll\",\n",
       " 'your',\n",
       " \"you're\",\n",
       " 'yours',\n",
       " 'yourself',\n",
       " 'yourselves',\n",
       " \"you've\"]"
      ]
     },
     "execution_count": 24,
     "metadata": {},
     "output_type": "execute_result"
    }
   ],
   "source": [
    "import nltk\n",
    "nltk.download('stopwords')\n",
    "\n",
    "## stop words\n",
    "from nltk.corpus import stopwords\n",
    "stopwords.words('english')"
   ]
  },
  {
   "cell_type": "code",
   "execution_count": 25,
   "id": "65e2c902",
   "metadata": {},
   "outputs": [
    {
     "data": {
      "text/plain": [
       "'!\"#$%&\\'()*+,-./:;<=>?@[\\\\]^_`{|}~'"
      ]
     },
     "execution_count": 25,
     "metadata": {},
     "output_type": "execute_result"
    }
   ],
   "source": [
    "import string\n",
    "string.punctuation"
   ]
  },
  {
   "cell_type": "code",
   "execution_count": 26,
   "id": "4008601a",
   "metadata": {},
   "outputs": [],
   "source": [
    "from nltk.stem import PorterStemmer\n",
    "ps=PorterStemmer()"
   ]
  },
  {
   "cell_type": "code",
   "execution_count": 27,
   "id": "9f6efed7",
   "metadata": {},
   "outputs": [],
   "source": [
    "def clean_text(text):\n",
    "    # Step 1: Lowercase\n",
    "    text = text.lower()\n",
    "\n",
    "    # Step 2: Tokenize\n",
    "    tokens = nltk.word_tokenize(text)\n",
    "\n",
    "    # Step 3: Remove non-alphanumeric tokens\n",
    "    tokens = [word for word in tokens if word.isalnum()]\n",
    "\n",
    "    # Step 4: Remove stopwords and punctuation\n",
    "    stop_words = set(stopwords.words('english'))\n",
    "    tokens = [word for word in tokens if word not in stop_words and word not in string.punctuation]\n",
    "\n",
    "    # Step 5: Stemming\n",
    "    stemmed = [ps.stem(word) for word in tokens]\n",
    "\n",
    "    # Step 6: Return cleaned string\n",
    "    return \" \".join(stemmed)"
   ]
  },
  {
   "cell_type": "code",
   "execution_count": 28,
   "id": "ce0c5985",
   "metadata": {},
   "outputs": [
    {
     "data": {
      "text/plain": [
       "'love watch movi'"
      ]
     },
     "execution_count": 28,
     "metadata": {},
     "output_type": "execute_result"
    }
   ],
   "source": [
    "clean_text(\"I love watching movies\")"
   ]
  },
  {
   "cell_type": "code",
   "execution_count": 29,
   "id": "4277993c",
   "metadata": {},
   "outputs": [
    {
     "data": {
      "text/plain": [
       "'talk'"
      ]
     },
     "execution_count": 29,
     "metadata": {},
     "output_type": "execute_result"
    }
   ],
   "source": [
    "clean_text(\"can I TalK to You noW??\")"
   ]
  },
  {
   "cell_type": "code",
   "execution_count": 30,
   "id": "d170e3f3",
   "metadata": {},
   "outputs": [
    {
     "data": {
      "text/plain": [
       "'U.S. military to accept transgender recruits on Monday: Pentagon WASHINGTON (Reuters) - Transgender people will be allowed for the first time to enlist in the U.S. military starting on Monday as ordered by federal courts, the Pentagon said on Friday, after President Donald Trump’s administration decided not to appeal rulings that blocked his transgender ban. Two federal appeals courts, one in Washington and one in Virginia, last week rejected the administration’s request to put on hold orders by lower court judges requiring the military to begin accepting transgender recruits on Jan. 1. A Justice Department official said the administration will not challenge those rulings. “The Department of Defense has announced that it will be releasing an independent study of these issues in the coming weeks. So rather than litigate this interim appeal before that occurs, the administration has decided to wait for DOD’s study and will continue to defend the president’s lawful authority in District Court in the meantime,” the official said, speaking on condition of anonymity. In September, the Pentagon said it had created a panel of senior officials to study how to implement a directive by Trump to prohibit transgender individuals from serving. The Defense Department has until Feb. 21 to submit a plan to Trump. Lawyers representing currently-serving transgender service members and aspiring recruits said they had expected the administration to appeal the rulings to the conservative-majority Supreme Court, but were hoping that would not happen. Pentagon spokeswoman Heather Babb said in a statement: “As mandated by court order, the Department of Defense is prepared to begin accessing transgender applicants for military service Jan. 1. All applicants must meet all accession standards.” Jennifer Levi, a lawyer with gay, lesbian and transgender advocacy group GLAD, called the decision not to appeal “great news.” “I’m hoping it means the government has come to see that there is no way to justify a ban and that it’s not good for the military or our country,” Levi said. Both GLAD and the American Civil Liberties Union represent plaintiffs in the lawsuits filed against the administration. In a move that appealed to his hard-line conservative supporters, Trump announced in July that he would prohibit transgender people from serving in the military, reversing Democratic President Barack Obama’s policy of accepting them. Trump said on Twitter at the time that the military “cannot be burdened with the tremendous medical costs and disruption that transgender in the military would entail.” Four federal judges - in Baltimore, Washington, D.C., Seattle and Riverside, California - have issued rulings blocking Trump’s ban while legal challenges to the Republican president’s policy proceed. The judges said the ban would likely violate the right under the U.S. Constitution to equal protection under the law. The Pentagon on Dec. 8 issued guidelines to recruitment personnel in order to enlist transgender applicants by Jan. 1. The memo outlined medical requirements and specified how the applicants’ sex would be identified and even which undergarments they would wear. The Trump administration previously said in legal papers that the armed forces were not prepared to train thousands of personnel on the medical standards needed to process transgender applicants and might have to accept “some individuals who are not medically fit for service.” The Obama administration had set a deadline of July 1, 2017, to begin accepting transgender recruits. But Trump’s defense secretary, James Mattis, postponed that date to Jan. 1, 2018, which the president’s ban then put off indefinitely. Trump has taken other steps aimed at rolling back transgender rights. In October, his administration said a federal law banning gender-based workplace discrimination does not protect transgender employees, reversing another Obama-era position. In February, Trump rescinded guidance issued by the Obama administration saying that public schools should allow transgender students to use the restroom that corresponds to their gender identity. '"
      ]
     },
     "execution_count": 30,
     "metadata": {},
     "output_type": "execute_result"
    }
   ],
   "source": [
    "data['content'][1]"
   ]
  },
  {
   "cell_type": "code",
   "execution_count": 31,
   "id": "e7229ccd",
   "metadata": {},
   "outputs": [
    {
     "data": {
      "text/plain": [
       "'militari accept transgend recruit monday pentagon washington reuter transgend peopl allow first time enlist militari start monday order feder court pentagon said friday presid donald trump administr decid appeal rule block transgend ban two feder appeal court one washington one virginia last week reject administr request put hold order lower court judg requir militari begin accept transgend recruit justic depart offici said administr challeng rule depart defens announc releas independ studi issu come week rather litig interim appeal occur administr decid wait dod studi continu defend presid law author district court meantim offici said speak condit anonym septemb pentagon said creat panel senior offici studi implement direct trump prohibit transgend individu serv defens depart 21 submit plan trump lawyer repres transgend servic member aspir recruit said expect administr appeal rule suprem court hope would happen pentagon spokeswoman heather babb said statement mandat court order depart defens prepar begin access transgend applic militari servic applic must meet access jennif levi lawyer gay lesbian transgend advocaci group glad call decis appeal great hope mean govern come see way justifi ban good militari countri levi said glad american civil liberti union repres plaintiff lawsuit file administr move appeal conserv support trump announc juli would prohibit transgend peopl serv militari revers democrat presid barack obama polici accept trump said twitter time militari burden tremend medic cost disrupt transgend militari would four feder judg baltimor washington seattl riversid california issu rule block trump ban legal challeng republican presid polici proceed judg said ban would like violat right constitut equal protect law pentagon 8 issu guidelin recruit personnel order enlist transgend applic memo outlin medic requir specifi applic sex would identifi even undergar would wear trump administr previous said legal paper arm forc prepar train thousand personnel medic standard need process transgend applic might accept individu medic fit obama administr set deadlin juli 1 2017 begin accept transgend recruit trump defens secretari jame matti postpon date 1 2018 presid ban put indefinit trump taken step aim roll back transgend right octob administr said feder law ban workplac discrimin protect transgend employe revers anoth posit februari trump rescind guidanc issu obama administr say public school allow transgend student use restroom correspond gender ident'"
      ]
     },
     "execution_count": 31,
     "metadata": {},
     "output_type": "execute_result"
    }
   ],
   "source": [
    "clean_text('U.S. military to accept transgender recruits on Monday: Pentagon WASHINGTON (Reuters) - Transgender people will be allowed for the first time to enlist in the U.S. military starting on Monday as ordered by federal courts, the Pentagon said on Friday, after President Donald Trump’s administration decided not to appeal rulings that blocked his transgender ban. Two federal appeals courts, one in Washington and one in Virginia, last week rejected the administration’s request to put on hold orders by lower court judges requiring the military to begin accepting transgender recruits on Jan. 1. A Justice Department official said the administration will not challenge those rulings. “The Department of Defense has announced that it will be releasing an independent study of these issues in the coming weeks. So rather than litigate this interim appeal before that occurs, the administration has decided to wait for DOD’s study and will continue to defend the president’s lawful authority in District Court in the meantime,” the official said, speaking on condition of anonymity. In September, the Pentagon said it had created a panel of senior officials to study how to implement a directive by Trump to prohibit transgender individuals from serving. The Defense Department has until Feb. 21 to submit a plan to Trump. Lawyers representing currently-serving transgender service members and aspiring recruits said they had expected the administration to appeal the rulings to the conservative-majority Supreme Court, but were hoping that would not happen. Pentagon spokeswoman Heather Babb said in a statement: “As mandated by court order, the Department of Defense is prepared to begin accessing transgender applicants for military service Jan. 1. All applicants must meet all accession standards.” Jennifer Levi, a lawyer with gay, lesbian and transgender advocacy group GLAD, called the decision not to appeal “great news.” “I’m hoping it means the government has come to see that there is no way to justify a ban and that it’s not good for the military or our country,” Levi said. Both GLAD and the American Civil Liberties Union represent plaintiffs in the lawsuits filed against the administration. In a move that appealed to his hard-line conservative supporters, Trump announced in July that he would prohibit transgender people from serving in the military, reversing Democratic President Barack Obama’s policy of accepting them. Trump said on Twitter at the time that the military “cannot be burdened with the tremendous medical costs and disruption that transgender in the military would entail.” Four federal judges - in Baltimore, Washington, D.C., Seattle and Riverside, California - have issued rulings blocking Trump’s ban while legal challenges to the Republican president’s policy proceed. The judges said the ban would likely violate the right under the U.S. Constitution to equal protection under the law. The Pentagon on Dec. 8 issued guidelines to recruitment personnel in order to enlist transgender applicants by Jan. 1. The memo outlined medical requirements and specified how the applicants’ sex would be identified and even which undergarments they would wear. The Trump administration previously said in legal papers that the armed forces were not prepared to train thousands of personnel on the medical standards needed to process transgender applicants and might have to accept “some individuals who are not medically fit for service.” The Obama administration had set a deadline of July 1, 2017, to begin accepting transgender recruits. But Trump’s defense secretary, James Mattis, postponed that date to Jan. 1, 2018, which the president’s ban then put off indefinitely. Trump has taken other steps aimed at rolling back transgender rights. In October, his administration said a federal law banning gender-based workplace discrimination does not protect transgender employees, reversing another Obama-era position. In February, Trump rescinded guidance issued by the Obama administration saying that public schools should allow transgender students to use the restroom that corresponds to their gender identity. ')"
   ]
  },
  {
   "cell_type": "code",
   "execution_count": 32,
   "id": "5bef4fe6",
   "metadata": {},
   "outputs": [],
   "source": [
    "data['transformed_content'] = data['content'].apply(clean_text)"
   ]
  },
  {
   "cell_type": "code",
   "execution_count": 33,
   "id": "535d80f3",
   "metadata": {},
   "outputs": [
    {
     "data": {
      "text/html": [
       "<div>\n",
       "<style scoped>\n",
       "    .dataframe tbody tr th:only-of-type {\n",
       "        vertical-align: middle;\n",
       "    }\n",
       "\n",
       "    .dataframe tbody tr th {\n",
       "        vertical-align: top;\n",
       "    }\n",
       "\n",
       "    .dataframe thead th {\n",
       "        text-align: right;\n",
       "    }\n",
       "</style>\n",
       "<table border=\"1\" class=\"dataframe\">\n",
       "  <thead>\n",
       "    <tr style=\"text-align: right;\">\n",
       "      <th></th>\n",
       "      <th>label</th>\n",
       "      <th>content</th>\n",
       "      <th>num_characters</th>\n",
       "      <th>num_words</th>\n",
       "      <th>num_sentences</th>\n",
       "      <th>transformed_content</th>\n",
       "    </tr>\n",
       "  </thead>\n",
       "  <tbody>\n",
       "    <tr>\n",
       "      <th>0</th>\n",
       "      <td>1</td>\n",
       "      <td>As U.S. budget fight looms, Republicans flip t...</td>\n",
       "      <td>4724</td>\n",
       "      <td>896</td>\n",
       "      <td>30</td>\n",
       "      <td>budget fight loom republican flip fiscal scrip...</td>\n",
       "    </tr>\n",
       "    <tr>\n",
       "      <th>1</th>\n",
       "      <td>1</td>\n",
       "      <td>U.S. military to accept transgender recruits o...</td>\n",
       "      <td>4142</td>\n",
       "      <td>723</td>\n",
       "      <td>21</td>\n",
       "      <td>militari accept transgend recruit monday penta...</td>\n",
       "    </tr>\n",
       "    <tr>\n",
       "      <th>2</th>\n",
       "      <td>1</td>\n",
       "      <td>Senior U.S. Republican senator: 'Let Mr. Muell...</td>\n",
       "      <td>2850</td>\n",
       "      <td>535</td>\n",
       "      <td>17</td>\n",
       "      <td>senior republican senat mueller job washington...</td>\n",
       "    </tr>\n",
       "    <tr>\n",
       "      <th>3</th>\n",
       "      <td>1</td>\n",
       "      <td>FBI Russia probe helped by Australian diplomat...</td>\n",
       "      <td>2521</td>\n",
       "      <td>447</td>\n",
       "      <td>16</td>\n",
       "      <td>fbi russia probe help australian diplomat nyt ...</td>\n",
       "    </tr>\n",
       "    <tr>\n",
       "      <th>4</th>\n",
       "      <td>1</td>\n",
       "      <td>Trump wants Postal Service to charge 'much mor...</td>\n",
       "      <td>5274</td>\n",
       "      <td>999</td>\n",
       "      <td>40</td>\n",
       "      <td>trump want postal servic charg amazon shipment...</td>\n",
       "    </tr>\n",
       "  </tbody>\n",
       "</table>\n",
       "</div>"
      ],
      "text/plain": [
       "   label                                            content  num_characters  \\\n",
       "0      1  As U.S. budget fight looms, Republicans flip t...            4724   \n",
       "1      1  U.S. military to accept transgender recruits o...            4142   \n",
       "2      1  Senior U.S. Republican senator: 'Let Mr. Muell...            2850   \n",
       "3      1  FBI Russia probe helped by Australian diplomat...            2521   \n",
       "4      1  Trump wants Postal Service to charge 'much mor...            5274   \n",
       "\n",
       "   num_words  num_sentences                                transformed_content  \n",
       "0        896             30  budget fight loom republican flip fiscal scrip...  \n",
       "1        723             21  militari accept transgend recruit monday penta...  \n",
       "2        535             17  senior republican senat mueller job washington...  \n",
       "3        447             16  fbi russia probe help australian diplomat nyt ...  \n",
       "4        999             40  trump want postal servic charg amazon shipment...  "
      ]
     },
     "execution_count": 33,
     "metadata": {},
     "output_type": "execute_result"
    }
   ],
   "source": [
    "data.head()"
   ]
  },
  {
   "cell_type": "code",
   "execution_count": 34,
   "id": "489cd3cd",
   "metadata": {},
   "outputs": [],
   "source": [
    "fake = []\n",
    "\n",
    "for i in data[data['label']==0]['transformed_content'].tolist():\n",
    "    for j in i.split():\n",
    "        fake.append(j)\n"
   ]
  },
  {
   "cell_type": "code",
   "execution_count": 35,
   "id": "7d3b388e",
   "metadata": {},
   "outputs": [
    {
     "data": {
      "text/plain": [
       "5524039"
      ]
     },
     "execution_count": 35,
     "metadata": {},
     "output_type": "execute_result"
    }
   ],
   "source": [
    "## total no. of words in fake news\n",
    "\n",
    "len(fake)"
   ]
  },
  {
   "cell_type": "code",
   "execution_count": 36,
   "id": "55afaa7e",
   "metadata": {},
   "outputs": [],
   "source": [
    "true = []\n",
    "\n",
    "for i in data[data['label']==1]['transformed_content'].tolist():\n",
    "    for j in i.split():\n",
    "        true.append(j)"
   ]
  },
  {
   "cell_type": "code",
   "execution_count": 37,
   "id": "2f82f112",
   "metadata": {},
   "outputs": [
    {
     "data": {
      "text/plain": [
       "4872865"
      ]
     },
     "execution_count": 37,
     "metadata": {},
     "output_type": "execute_result"
    }
   ],
   "source": [
    "## total no. of words in true news\n",
    "\n",
    "len(true)"
   ]
  },
  {
   "cell_type": "markdown",
   "id": "630f256b",
   "metadata": {},
   "source": [
    "### most common 50 words of both fake and true news"
   ]
  },
  {
   "cell_type": "code",
   "execution_count": 38,
   "id": "6b5e75c2",
   "metadata": {},
   "outputs": [
    {
     "data": {
      "text/plain": [
       "[('trump', 83135),\n",
       " ('said', 31339),\n",
       " ('presid', 29337),\n",
       " ('peopl', 26600),\n",
       " ('one', 24401),\n",
       " ('state', 24393),\n",
       " ('would', 23718),\n",
       " ('like', 21898),\n",
       " ('say', 21503),\n",
       " ('obama', 20637),\n",
       " ('clinton', 19849),\n",
       " ('time', 18610),\n",
       " ('donald', 18079),\n",
       " ('video', 17350),\n",
       " ('go', 16960),\n",
       " ('republican', 16930),\n",
       " ('american', 16779),\n",
       " ('get', 16083),\n",
       " ('hillari', 15862),\n",
       " ('make', 15756),\n",
       " ('report', 15643),\n",
       " ('also', 15269),\n",
       " ('year', 15176),\n",
       " ('new', 15096),\n",
       " ('news', 15058),\n",
       " ('us', 14499),\n",
       " ('even', 14474),\n",
       " ('imag', 14297),\n",
       " ('support', 14175),\n",
       " ('white', 14088),\n",
       " ('call', 13837),\n",
       " ('nation', 13260),\n",
       " ('right', 13204),\n",
       " ('use', 12711),\n",
       " ('want', 12629),\n",
       " ('democrat', 12591),\n",
       " ('know', 12579),\n",
       " ('elect', 12169),\n",
       " ('hous', 12108),\n",
       " ('campaign', 12011),\n",
       " ('media', 11732),\n",
       " ('via', 11368),\n",
       " ('america', 11365),\n",
       " ('show', 11124),\n",
       " ('take', 11118),\n",
       " ('vote', 11044),\n",
       " ('countri', 10942),\n",
       " ('think', 10900),\n",
       " ('work', 10764),\n",
       " ('polit', 10598)]"
      ]
     },
     "execution_count": 38,
     "metadata": {},
     "output_type": "execute_result"
    }
   ],
   "source": [
    "from collections import Counter\n",
    "\n",
    "\n",
    "## common words of fake news\n",
    "Counter(fake).most_common(50)"
   ]
  },
  {
   "cell_type": "code",
   "execution_count": 39,
   "id": "fc857b4c",
   "metadata": {},
   "outputs": [
    {
     "data": {
      "text/plain": [
       "[('said', 97856),\n",
       " ('trump', 59066),\n",
       " ('state', 36857),\n",
       " ('would', 31403),\n",
       " ('presid', 28604),\n",
       " ('reuter', 28178),\n",
       " ('republican', 22938),\n",
       " ('govern', 20288),\n",
       " ('say', 18865),\n",
       " ('hous', 18804),\n",
       " ('year', 18696),\n",
       " ('new', 17485),\n",
       " ('senat', 16755),\n",
       " ('democrat', 16680),\n",
       " ('unit', 16378),\n",
       " ('elect', 15907),\n",
       " ('also', 15757),\n",
       " ('offici', 15211),\n",
       " ('parti', 15200),\n",
       " ('peopl', 15113),\n",
       " ('nation', 14212),\n",
       " ('told', 14112),\n",
       " ('countri', 13845),\n",
       " ('report', 13786),\n",
       " ('could', 13763),\n",
       " ('one', 12970),\n",
       " ('last', 12804),\n",
       " ('washington', 12450),\n",
       " ('vote', 12401),\n",
       " ('support', 12334),\n",
       " ('campaign', 12093),\n",
       " ('includ', 12075),\n",
       " ('call', 12063),\n",
       " ('secur', 11699),\n",
       " ('two', 11690),\n",
       " ('group', 11309),\n",
       " ('court', 10996),\n",
       " ('leader', 10975),\n",
       " ('former', 10759),\n",
       " ('north', 10576),\n",
       " ('week', 10475),\n",
       " ('donald', 10432),\n",
       " ('plan', 10231),\n",
       " ('white', 10213),\n",
       " ('clinton', 10093),\n",
       " ('percent', 9945),\n",
       " ('minist', 9877),\n",
       " ('tax', 9863),\n",
       " ('obama', 9781),\n",
       " ('polit', 9723)]"
      ]
     },
     "execution_count": 39,
     "metadata": {},
     "output_type": "execute_result"
    }
   ],
   "source": [
    "## common words of true news\n",
    "Counter(true).most_common(50)"
   ]
  },
  {
   "cell_type": "markdown",
   "id": "1c1a1ae9",
   "metadata": {},
   "source": [
    "### bar plot of 30 common words of fake news"
   ]
  },
  {
   "cell_type": "code",
   "execution_count": 40,
   "id": "1864cfff",
   "metadata": {},
   "outputs": [
    {
     "data": {
      "image/png": "[encoded data removed]",
      "text/plain": [
       "<Figure size 640x480 with 1 Axes>"
      ]
     },
     "metadata": {},
     "output_type": "display_data"
    }
   ],
   "source": [
    "plt.bar(pd.DataFrame(Counter(fake).most_common(30))[0],pd.DataFrame(Counter(fake).most_common(30))[1])\n",
    "plt.xticks(rotation='vertical')\n",
    "plt.show()"
   ]
  },
  {
   "cell_type": "markdown",
   "id": "5f7d85a7",
   "metadata": {},
   "source": [
    "### bar plot of 30 common words of true news"
   ]
  },
  {
   "cell_type": "code",
   "execution_count": 41,
   "id": "cc7a41fa",
   "metadata": {},
   "outputs": [
    {
     "data": {
      "image/png": "[encoded data removed]",
      "text/plain": [
       "<Figure size 640x480 with 1 Axes>"
      ]
     },
     "metadata": {},
     "output_type": "display_data"
    }
   ],
   "source": [
    "plt.bar(pd.DataFrame(Counter(true).most_common(30))[0],pd.DataFrame(Counter(true).most_common(30))[1])\n",
    "plt.xticks(rotation='vertical')\n",
    "plt.show()"
   ]
  },
  {
   "cell_type": "markdown",
   "id": "8abe4a90",
   "metadata": {},
   "source": [
    "## Model Building\n",
    "\n",
    "* now we need to convert text into numbers or vectors or vectorize\n",
    "\n",
    "* so we use Text Vectorization : using bag of words\n",
    "* in bag of words:   we create a column for frequency of all the words and we check the frequency in each msg\n",
    "and this frequency of each msg becomes our vector"
   ]
  },
  {
   "cell_type": "code",
   "execution_count": 42,
   "id": "f935071d",
   "metadata": {},
   "outputs": [],
   "source": [
    "from sklearn.feature_extraction.text import TfidfVectorizer\n",
    "\n",
    "tfidf = TfidfVectorizer()\n"
   ]
  },
  {
   "cell_type": "code",
   "execution_count": 43,
   "id": "21237d78",
   "metadata": {},
   "outputs": [],
   "source": [
    "X = data['transformed_content']\n",
    "y = data['label']"
   ]
  },
  {
   "cell_type": "code",
   "execution_count": 44,
   "id": "9e753e14",
   "metadata": {},
   "outputs": [],
   "source": [
    "## train test split\n",
    "\n",
    "from sklearn.model_selection import train_test_split\n",
    "X_train, X_test, y_train, y_test = train_test_split(X, y, test_size=0.2, random_state=42)\n"
   ]
  },
  {
   "cell_type": "code",
   "execution_count": 45,
   "id": "4ffdceca",
   "metadata": {},
   "outputs": [],
   "source": [
    "tfidf = TfidfVectorizer()\n",
    "X_train_vec = tfidf.fit_transform(X_train)\n",
    "\n",
    "X_test_vec = tfidf.transform(X_test)"
   ]
  },
  {
   "cell_type": "code",
   "execution_count": 46,
   "id": "769dae5e",
   "metadata": {},
   "outputs": [],
   "source": [
    "from sklearn.naive_bayes import BernoulliNB, MultinomialNB\n",
    "from sklearn.metrics import accuracy_score, confusion_matrix,precision_score, classification_report\n",
    "\n",
    "bnb = BernoulliNB()\n",
    "mnb = MultinomialNB()"
   ]
  },
  {
   "cell_type": "code",
   "execution_count": 47,
   "id": "864febbb",
   "metadata": {},
   "outputs": [
    {
     "name": "stdout",
     "output_type": "stream",
     "text": [
      "accuracy: 0.966547326023719\n",
      "confusion matrix: [[4487  161]\n",
      " [ 138 4152]]\n",
      "precision: 0.962670994667285\n"
     ]
    }
   ],
   "source": [
    "bnb.fit(X_train_vec,y_train)\n",
    "y_pred2 = bnb.predict(X_test_vec)\n",
    "print(\"accuracy:\",accuracy_score(y_test,y_pred2))\n",
    "print(\"confusion matrix:\",confusion_matrix(y_test,y_pred2))\n",
    "print(\"precision:\",precision_score(y_test,y_pred2))"
   ]
  },
  {
   "cell_type": "markdown",
   "id": "cda32370",
   "metadata": {},
   "source": [
    "* here the precision is 96%, false postives and false negatives are low"
   ]
  },
  {
   "cell_type": "code",
   "execution_count": 48,
   "id": "6fc177ab",
   "metadata": {},
   "outputs": [
    {
     "name": "stdout",
     "output_type": "stream",
     "text": [
      "accuracy: 0.932423360930857\n",
      "confusion matrix: [[4404  244]\n",
      " [ 360 3930]]\n",
      "precision: 0.9415428845232391\n"
     ]
    }
   ],
   "source": [
    "mnb.fit(X_train_vec,y_train)\n",
    "y_pred3 = mnb.predict(X_test_vec)\n",
    "print(\"accuracy:\",accuracy_score(y_test,y_pred3))\n",
    "print(\"confusion matrix:\",confusion_matrix(y_test,y_pred3))\n",
    "print(\"precision:\",precision_score(y_test,y_pred3))"
   ]
  },
  {
   "cell_type": "markdown",
   "id": "2a80b22d",
   "metadata": {},
   "source": [
    "* here the precision is 94%, false postives and false negatives are comparatively more."
   ]
  },
  {
   "cell_type": "markdown",
   "id": "6f737799",
   "metadata": {},
   "source": [
    "### Insights:\n",
    "\n",
    "* Bernoulli Naive Bayes is performing better overall in our case — higher accuracy, lower misclassification."
   ]
  },
  {
   "cell_type": "markdown",
   "id": "b39673b7",
   "metadata": {},
   "source": [
    "### Training with other classification models"
   ]
  },
  {
   "cell_type": "code",
   "execution_count": 49,
   "id": "8d14bc65",
   "metadata": {},
   "outputs": [],
   "source": [
    "from sklearn.linear_model import LogisticRegression\n",
    "from sklearn.svm import SVC\n",
    "from sklearn.naive_bayes import MultinomialNB, BernoulliNB\n",
    "from sklearn.tree import DecisionTreeClassifier\n",
    "from sklearn.neighbors import KNeighborsClassifier\n",
    "from sklearn.ensemble import RandomForestClassifier\n",
    "from sklearn.ensemble import AdaBoostClassifier\n",
    "from sklearn.ensemble import BaggingClassifier\n",
    "\n",
    "from sklearn.ensemble import GradientBoostingClassifier\n",
    "from xgboost import XGBClassifier"
   ]
  },
  {
   "cell_type": "code",
   "execution_count": 50,
   "id": "786fb56f",
   "metadata": {},
   "outputs": [
    {
     "name": "stdout",
     "output_type": "stream",
     "text": [
      "\n",
      "----- Multinomial Naive Bays -----\n",
      "Accuracy: 0.932423360930857\n",
      "Confusion Matrix:\n",
      " [[4404  244]\n",
      " [ 360 3930]]\n",
      "Precision: 0.9415428845232391\n",
      "============================================================\n",
      "\n",
      "----- Bernouli Naive Bays -----\n",
      "Accuracy: 0.966547326023719\n",
      "Confusion Matrix:\n",
      " [[4487  161]\n",
      " [ 138 4152]]\n",
      "Precision: 0.962670994667285\n",
      "============================================================\n",
      "\n",
      "----- Logistic Regression -----\n",
      "Accuracy: 0.9840008950548221\n",
      "Confusion Matrix:\n",
      " [[4576   72]\n",
      " [  71 4219]]\n",
      "Precision: 0.9832206944768119\n",
      "============================================================\n",
      "\n",
      "----- Random Forest -----\n",
      "Accuracy: 0.9903781606623405\n",
      "Confusion Matrix:\n",
      " [[4617   31]\n",
      " [  55 4235]]\n",
      "Precision: 0.9927332395686826\n",
      "============================================================\n",
      "\n",
      "----- Support Vector Classifier -----\n",
      "Accuracy: 0.9911613336316849\n",
      "Confusion Matrix:\n",
      " [[4605   43]\n",
      " [  36 4254]]\n",
      "Precision: 0.9899930183849197\n",
      "============================================================\n",
      "\n",
      "----- Decision Tree Classifier -----\n",
      "Accuracy: 0.9950771984784068\n",
      "Confusion Matrix:\n",
      " [[4613   35]\n",
      " [   9 4281]]\n",
      "Precision: 0.991890639481001\n",
      "============================================================\n",
      "\n",
      "----- Kneighbors Classifier -----\n",
      "Accuracy: 0.8740210337883195\n",
      "Confusion Matrix:\n",
      " [[3804  844]\n",
      " [ 282 4008]]\n",
      "Precision: 0.8260511129431163\n",
      "============================================================\n",
      "\n",
      "----- Ada  boost Classifier -----\n",
      "Accuracy: 0.9954128440366973\n",
      "Confusion Matrix:\n",
      " [[4624   24]\n",
      " [  17 4273]]\n",
      "Precision: 0.9944147079357691\n",
      "============================================================\n",
      "\n",
      "----- Bagging Classifier -----\n",
      "Accuracy: 0.9968673081226225\n",
      "Confusion Matrix:\n",
      " [[4630   18]\n",
      " [  10 4280]]\n",
      "Precision: 0.9958120055839925\n",
      "============================================================\n",
      "\n",
      "----- Gradient Boost Classifier -----\n",
      "Accuracy: 0.9945177892145894\n",
      "Confusion Matrix:\n",
      " [[4611   37]\n",
      " [  12 4278]]\n",
      "Precision: 0.9914252607184241\n",
      "============================================================\n",
      "\n",
      "----- XGB Classifier -----\n",
      "Accuracy: 0.9979861266502573\n",
      "Confusion Matrix:\n",
      " [[4638   10]\n",
      " [   8 4282]]\n",
      "Precision: 0.9976700838769804\n",
      "============================================================\n"
     ]
    }
   ],
   "source": [
    "models = {\n",
    "    \"Multinomial Naive Bays\": MultinomialNB(),\n",
    "    \"Bernouli Naive Bays\": BernoulliNB(),\n",
    "    \"Logistic Regression\": LogisticRegression(max_iter=1000),\n",
    "    \"Random Forest\": RandomForestClassifier(n_estimators=100),\n",
    "    \"Support Vector Classifier\": SVC(kernel='sigmoid', gamma=1.0),\n",
    "    \"Decision Tree Classifier\": DecisionTreeClassifier(max_depth=6),\n",
    "    \"Kneighbors Classifier\": KNeighborsClassifier(),\n",
    "    \"Ada  boost Classifier\": AdaBoostClassifier(n_estimators=50),\n",
    "    \"Bagging Classifier\": BaggingClassifier(n_estimators=50),\n",
    "    \"Gradient Boost Classifier\": GradientBoostingClassifier(n_estimators=50),\n",
    "    \"XGB Classifier\": XGBClassifier(n_estimators=50)\n",
    "\n",
    "}\n",
    "\n",
    "accuracy = []\n",
    "precision = []\n",
    "names = []\n",
    "for name, model in models.items():\n",
    "    print(f\"\\n----- {name} -----\")\n",
    "    model.fit(X_train_vec, y_train)\n",
    "    y_pred = model.predict(X_test_vec)\n",
    "\n",
    "    acc = accuracy_score(y_test, y_pred)\n",
    "    prec = precision_score(y_test, y_pred)\n",
    "    \n",
    "    print(\"Accuracy:\", acc)\n",
    "    print(\"Confusion Matrix:\\n\", confusion_matrix(y_test, y_pred))\n",
    "    print(\"Precision:\",prec)\n",
    "\n",
    "    names.append(name)\n",
    "    accuracy.append(acc)\n",
    "    precision.append(prec)\n",
    "    \n",
    "\n",
    "    print('='*60)\n"
   ]
  },
  {
   "cell_type": "markdown",
   "id": "85a5e966",
   "metadata": {},
   "source": [
    "## Conclusion:\n",
    "* The best model came out to be XGB classifier with low false positives and false negatives along with high accuracy and high precision."
   ]
  },
  {
   "cell_type": "code",
   "execution_count": 51,
   "id": "530c5663",
   "metadata": {},
   "outputs": [
    {
     "data": {
      "image/png": "[encoded data removed]",
      "text/plain": [
       "<Figure size 800x600 with 1 Axes>"
      ]
     },
     "metadata": {},
     "output_type": "display_data"
    }
   ],
   "source": [
    "plt.figure(figsize=(8,6))\n",
    "plt.barh(names, accuracy, color='skyblue')\n",
    "plt.xlabel(\"Accuracy\")\n",
    "plt.title(\"Model Comparison\")\n",
    "plt.show()"
   ]
  },
  {
   "cell_type": "code",
   "execution_count": 52,
   "id": "474bc330",
   "metadata": {},
   "outputs": [
    {
     "data": {
      "image/png": "[encoded data removed]",
      "text/plain": [
       "<Figure size 800x600 with 1 Axes>"
      ]
     },
     "metadata": {},
     "output_type": "display_data"
    }
   ],
   "source": [
    "plt.figure(figsize=(8,6))\n",
    "plt.barh(names, precision, color='skyblue')\n",
    "plt.xlabel(\"Precision score\")\n",
    "plt.title(\"Model Comparison\")\n",
    "plt.show()"
   ]
  },
  {
   "cell_type": "markdown",
   "id": "709dc5b4",
   "metadata": {},
   "source": [
    "## Insights:\n",
    "* From the above bar graphs, it is clear that XGB classifier has high accuracy and high precision."
   ]
  },
  {
   "cell_type": "markdown",
   "id": "11880c99",
   "metadata": {},
   "source": [
    "## Testing"
   ]
  },
  {
   "cell_type": "code",
   "execution_count": null,
   "id": "86c0587c",
   "metadata": {},
   "outputs": [],
   "source": [
    "best_model = XGBClassifier(n_estimators = 50)\n",
    "best_model.fit(X_train_vec,y_train)"
   ]
  },
  {
   "cell_type": "code",
   "execution_count": null,
   "id": "a65c0f3d",
   "metadata": {},
   "outputs": [],
   "source": [
    "sample_input = [\"Breaking: COVID vaccine proven 100% effective in new study!\"]\n",
    "#sample_input = [\"budget fight loom republican flip fiscal\"]\n",
    "\n",
    "## preprocess\n",
    "clean_sample = [clean_text(i) for i in sample_input]\n",
    "\n",
    "## vectorizing\n",
    "vectorize_sample = tfidf.transform(clean_sample)\n",
    "\n",
    "## predict with best model\n",
    "prediction = best_model.predict(vectorize_sample)\n",
    "\n",
    "## output\n",
    "print(\"Prediction:\", \"REAL\" if prediction[0] == 1 else \"FAKE\")\n"
   ]
  }
 ],
 "metadata": {
  "kernelspec": {
   "display_name": "base",
   "language": "python",
   "name": "python3"
  },
  "language_info": {
   "codemirror_mode": {
    "name": "ipython",
    "version": 3
   },
   "file_extension": ".py",
   "mimetype": "text/x-python",
   "name": "python",
   "nbconvert_exporter": "python",
   "pygments_lexer": "ipython3",
   "version": "3.11.7"
  }
 },
 "nbformat": 4,
 "nbformat_minor": 5
}
